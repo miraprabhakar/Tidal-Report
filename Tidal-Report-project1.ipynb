{
 "cells": [
  {
   "cell_type": "markdown",
   "id": "e0df3ec9-7829-4e95-bee3-f60ee8f7c90a",
   "metadata": {},
   "source": [
    "# Tidal Report Project"
   ]
  },
  {
   "cell_type": "code",
   "execution_count": 3,
   "id": "519527d8-f91e-420c-9bab-6897c6332256",
   "metadata": {},
   "outputs": [],
   "source": [
    "import numpy as np\n",
    "import matplotlib.pyplot as plt\n",
    "from astropy.io import ascii\n",
    "from astropy.io import fits\n",
    "import pandas as pd\n",
    "import csv\n",
    "import scipy\n",
    "from scipy import optimize"
   ]
  },
  {
   "cell_type": "code",
   "execution_count": 7,
   "id": "44c6b42e-f769-42bf-8433-72f9030321fe",
   "metadata": {},
   "outputs": [
    {
     "name": "stdout",
     "output_type": "stream",
     "text": [
      "     col2  col3\n",
      "0    8:07  6.57\n",
      "1   15:37 -0.39\n",
      "2    8:55  5.38\n",
      "3   16:25 -1.74\n",
      "4    9:45  5.26\n",
      "..    ...   ...\n",
      "77  11:15  3.26\n",
      "78   4:29  5.21\n",
      "79  12:22  2.39\n",
      "80   5:21  4.83\n",
      "81  13:14  2.41\n",
      "\n",
      "[82 rows x 2 columns]\n"
     ]
    }
   ],
   "source": [
    "data = ascii.read('ASTR19_S22_group_project_data.txt') #read in the file\n",
    "df = data.to_pandas()\n",
    "df = df.iloc[:, 1:] #remove the first column\n",
    "print(df) #print the data"
   ]
  },
  {
   "cell_type": "code",
   "execution_count": 13,
   "id": "2dfe0a31-e9dc-4c01-af98-5a592eb4649b",
   "metadata": {},
   "outputs": [
    {
     "name": "stdout",
     "output_type": "stream",
     "text": [
      "[1, 1, 2, 2, 3, 3, 4, 4, 5, 5, 6, 6, 7, 7, 8, 8, 9, 9, 10, 10, 11, 11, 12, 12, 13, 13, 14, 14, 15, 15, 16, 16, 17, 17, 18, 18, 19, 19, 20, 20, 21, 21, 22, 22, 23, 23, 24, 24, 25, 25, 26, 26, 27, 27, 28, 28, 29, 29, 30, 30, 31, 31, 32, 32, 33, 33, 34, 34, 35, 35, 36, 36, 37, 37, 38, 38, 39, 39, 40, 40, 41, 41]\n",
      "['8:07', 6.57, '15:37', -0.39, '8:55', 5.38, '16:25', -1.74, '9:45', 5.26, '17:14', -1.36, '10:35', 4.13, '18:00', -1.15, '11:28', 3.48, '18:46', -1.61, '12:22', 2.62, '19:31', 0.05, '13:24', 1.83, '20:16', 1.01, '3:22', 3.57, '21:01', 0.73, '4:07', 4.54, '21:46', 2.17, '4:50', 3.76, '11:58', 2.88, '5:31', 3.9, '12:56', 1.92, '6:08', 4.73, '13:45', 1.74, '6:47', 5.66, '14:25', 0.79, '7:22', 5.33, '15:00', -0.04, '7:59', 5.23, '15:34', -1.12, '8:34', 6.67, '16:08', -0.61, '9:10', 4.74, '16:41', -0.93, '9:45', 4.69, '17:12', -1.29, '10:21', 4.2, '17:45', 0.22, '10:57', 3.68, '18:15', 0.26, '11:38', 2.47, '18:48', 0.36, '12:25', 2.59, '19:20', 0.99, '2:22', 4.1, '19:52', 1.87, '2:58', 3.17, '20:30', 1.6, '3:37', 3.71, '10:44', 3.1, '4:23', 4.04, '11:55', 2.49, '5:15', 4.07, '12:57', 2.18, '6:09', 5.93, '13:50', 0.7, '7:05', 6.89, '14:39', 0.21, '7:58', 6.72, '15:27', 0.22, '8:50', 6.77, '16:10', -1.68, '9:40', 5.77, '16:52', -1.32, '10:30', 4.35, '17:34', -0.73, '11:19', 4.23, '18:12', -0.38, '12:10', 2.24, '18:49', -0.61, '1:32', 3.45, '19:24', -0.46, '2:13', 4.13, '20:00', 1.21, '2:54', 3.34, '9:54', 2.58, '3:39', 3.32, '11:15', 3.26, '4:29', 5.21, '12:22', 2.39, '5:21', 4.83, '13:14', 2.41]\n"
     ]
    }
   ],
   "source": [
    "\n",
    "X = []\n",
    "Y = []\n",
    "\n",
    "for i in range(len(df)):\n",
    "    for j in range(3):\n",
    "        if j == 0:\n",
    "            X.append(data[i][j])\n",
    "        else:\n",
    "            Y.append(data[i][j])\n",
    "\n",
    "print(X)\n",
    "print(Y)\n"
   ]
  }
 ],
 "metadata": {
  "kernelspec": {
   "display_name": "Python 3 (ipykernel)",
   "language": "python",
   "name": "python3"
  },
  "language_info": {
   "codemirror_mode": {
    "name": "ipython",
    "version": 3
   },
   "file_extension": ".py",
   "mimetype": "text/x-python",
   "name": "python",
   "nbconvert_exporter": "python",
   "pygments_lexer": "ipython3",
   "version": "3.12.0"
  }
 },
 "nbformat": 4,
 "nbformat_minor": 5
}
