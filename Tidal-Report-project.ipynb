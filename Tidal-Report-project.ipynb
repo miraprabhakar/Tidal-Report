{
 "cells": [
  {
   "cell_type": "markdown",
   "id": "e0df3ec9-7829-4e95-bee3-f60ee8f7c90a",
   "metadata": {},
   "source": [
    "# Tidal Report Project"
   ]
  },
  {
   "cell_type": "code",
   "execution_count": null,
   "id": "519527d8-f91e-420c-9bab-6897c6332256",
   "metadata": {},
   "outputs": [],
   "source": []
  }
 ],
 "metadata": {
  "kernelspec": {
   "display_name": "Python 3 (ipykernel)",
   "language": "python",
   "name": "python3"
  },
  "language_info": {
   "codemirror_mode": {
    "name": "ipython",
    "version": 3
   },
   "file_extension": ".py",
   "mimetype": "text/x-python",
   "name": "python",
   "nbconvert_exporter": "python",
   "pygments_lexer": "ipython3",
   "version": "3.12.0"
  }
 },
 "nbformat": 4,
 "nbformat_minor": 5
}
